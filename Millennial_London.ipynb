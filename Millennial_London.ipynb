{
  "nbformat": 4,
  "nbformat_minor": 0,
  "metadata": {
    "colab": {
      "name": "Millennial_London.ipynb",
      "provenance": [],
      "collapsed_sections": [],
      "authorship_tag": "ABX9TyPPBE11A/fiMCXRLtJzE9jI"
    },
    "kernelspec": {
      "name": "python3",
      "display_name": "Python 3"
    }
  },
  "cells": [
    {
      "cell_type": "markdown",
      "metadata": {
        "id": "vBeakyNKCz2o",
        "colab_type": "text"
      },
      "source": [
        "# **Millennial Friendly Neighborhoods in London**\n",
        "\n",
        "## **Introduction**\n",
        "\n",
        "In this project I will aim to identify millenial-friendly neighborhoods in London. This project is targeted towards young professionals looking for new homes in London, stakeholders that provide housing targeted at young professionals, or city planners that are looking to make neighborhoods more millenial friendly.\n",
        "\n",
        "Finding a neighbourhood that is millenial-friendly can be hard. Especially, in big cities like London. There are many variables to consider such as crime rates, rental prices, availability of public transport, and nearby enterainment.\n",
        "\n",
        "To determine which neighbourhoods are millenial friendly we will focus on neighborhoods with low crime rates, easy to access to nearby entertainment and \n"
      ]
    },
    {
      "cell_type": "markdown",
      "metadata": {
        "id": "NksduS8NMApR",
        "colab_type": "text"
      },
      "source": [
        "## **Data**\n",
        "\n",
        "To identify millenial-friendly neighbourhoods we will need the following data:\n",
        "\n",
        "*   Crime rates for each neighborhood\n",
        "*   Ease of access to public transport\n",
        "*   The amount of pubs in each neighborhood\n",
        "*   The amount of parks in each neighborhood\n",
        "\n",
        "We will extract Crime Rate data for each neighbourhood from Metropolitain Police Crime Dashboard. This data includes the number of crime incidents for a specific latitude & Longitude \n",
        "*   Example: Latitude: 51.471612, Longitude: -0.488698, Crime Incidents: 2135\n",
        "\n",
        "We will define our neighborhoods by their Post Code Pre-fix which we will obtain with GeoPy's Reverse Geocoding with the coordinates obtained from the Crime Rate data.\n",
        "*   Example: when putting in the Coordinates: 51.471612, -0.488698 will return Postal Code: TW6\n",
        "\n",
        "The ease of access to public transport will be assessed using the PTAL (Public Transport Accessibility Level) which rates the accessibility of locations across London to public transport. Each area has a rating  between 0 and 6b, where a score of 0 means the area has very poor access to public transport, and 6b means there is excellent access to public transport. \n",
        "* Example: Postal Code E2 will have a rating of 6B\n",
        "\n",
        "Millenial-friendly entertainment data will be obtained by using the Foursquare API. The total number of venues within that Category will be calculated for each postal code.\n",
        "* Example: Postal Code: BR1 Coordinates: 51.411807, 0.021526 Parks: 12, Pubs: 3\n",
        "\n",
        "\n",
        "\n"
      ]
    }
  ]
}