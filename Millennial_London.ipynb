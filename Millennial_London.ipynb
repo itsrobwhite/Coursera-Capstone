{
  "nbformat": 4,
  "nbformat_minor": 0,
  "metadata": {
    "colab": {
      "name": "Millennial_London.ipynb",
      "provenance": [],
      "collapsed_sections": [],
      "authorship_tag": "ABX9TyNSY/R4bbroCfHomctQBJIE"
    },
    "kernelspec": {
      "name": "python3",
      "display_name": "Python 3"
    }
  },
  "cells": [
    {
      "cell_type": "markdown",
      "metadata": {
        "id": "PY46T2aTBeBq",
        "colab_type": "text"
      },
      "source": [
        "# **<center>Millennial Friendly Neighborhoods in London<center>**\n",
        "**<center>IBM Data Science Professional Certificate Capstone<center>Project**"
      ]
    },
    {
      "cell_type": "markdown",
      "metadata": {
        "id": "vBeakyNKCz2o",
        "colab_type": "text"
      },
      "source": [
        "## **Introduction**\n",
        "\n",
        "In this project I will aim to identify millenial-friendly neighborhoods in London. This project is targeted towards young professionals looking for new homes in London, stakeholders that provide housing targeted at young professionals, or city planners that are looking to make neighborhoods more millenial friendly.\n",
        "\n",
        "Finding a neighbourhood that is millenial-friendly can be hard. Especially, in big cities like London. There are many variables to consider such as crime rates, rental prices, availability of public transport, and of course nearby enterainment.\n",
        "\n",
        "To determine which neighbourhoods are millenial friendly we will focus on neighborhoods with low crime rates, affordable rental prices and easy to access to nearby entertainment.\n"
      ]
    },
    {
      "cell_type": "markdown",
      "metadata": {
        "id": "NksduS8NMApR",
        "colab_type": "text"
      },
      "source": [
        "## **Data**\n",
        "\n",
        "To identify millenial-friendly neighbourhoods we will need the following data:\n",
        "\n",
        "*   Crime rates for each neighborhood\n",
        "*   Average rental prices for each neighborhood\n",
        "*   The amount of pubs in each neighborhood\n",
        "*   The amount of parks in each neighborhood\n",
        "\n",
        "We will extract Crime Rate data for each neighbourhood from Metropolitain Police Crime Dashboard\n",
        "\n",
        "This data includes the number of crime incidents for a specific latitude & Longitude \n",
        "*   Example: Latitude: 51.471612, Longitude: -0.488698, Crime Incidents: 2135\n",
        "\n",
        "We will define our neighborhoods by their Post Code Pre-fix which we will obtain with GeoPy's Reverse Geocoding with the coordinates obtained from the Crime Rate data.\n",
        "*   Example: when putting in the Coordinates: 51.471612, -0.488698 will return Postal Code: TW6\n",
        "\n",
        "Millenial-friendly entertainment data will be obtained by using the Foursquare API. The total number of venues within that Category will be calculated for each postal code.\n",
        "* Example: Postal Code: BR1 Coordinates: 51.411807, 0.021526 Parks: 12, Pubs: 3"
      ]
    }
  ]
}